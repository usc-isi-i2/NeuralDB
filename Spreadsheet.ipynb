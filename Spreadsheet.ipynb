{
 "cells": [
  {
   "cell_type": "markdown",
   "id": "c0c31728",
   "metadata": {},
   "source": [
    "# Python Environment Setup"
   ]
  },
  {
   "cell_type": "code",
   "execution_count": 80,
   "id": "ab776bb5",
   "metadata": {},
   "outputs": [
    {
     "name": "stdout",
     "output_type": "stream",
     "text": [
      "Requirement already satisfied: virtualenv in /nas/home/ssingh41/anaconda3/lib/python3.9/site-packages (20.13.3)\n",
      "Requirement already satisfied: filelock<4,>=3.2 in /nas/home/ssingh41/anaconda3/lib/python3.9/site-packages (from virtualenv) (3.3.1)\n",
      "Requirement already satisfied: six<2,>=1.9.0 in /nas/home/ssingh41/anaconda3/lib/python3.9/site-packages (from virtualenv) (1.16.0)\n",
      "Requirement already satisfied: platformdirs<3,>=2 in /nas/home/ssingh41/anaconda3/lib/python3.9/site-packages (from virtualenv) (2.5.1)\n",
      "Requirement already satisfied: distlib<1,>=0.3.1 in /nas/home/ssingh41/anaconda3/lib/python3.9/site-packages (from virtualenv) (0.3.4)\n"
     ]
    }
   ],
   "source": [
    "!pip3 install virtualenv"
   ]
  },
  {
   "cell_type": "code",
   "execution_count": 81,
   "id": "7aa05a9b",
   "metadata": {},
   "outputs": [],
   "source": [
    "!python3 -m venv myenv"
   ]
  },
  {
   "cell_type": "code",
   "execution_count": 82,
   "id": "e530ed02",
   "metadata": {},
   "outputs": [],
   "source": [
    "!source myenv/bin/activate"
   ]
  },
  {
   "cell_type": "markdown",
   "id": "835112a1",
   "metadata": {},
   "source": [
    "# This code will create a spreadsheet for all input, correct output and system output"
   ]
  },
  {
   "cell_type": "code",
   "execution_count": 92,
   "id": "9292bb23",
   "metadata": {},
   "outputs": [],
   "source": [
    "import json\n",
    "import pandas as pd"
   ]
  },
  {
   "cell_type": "markdown",
   "id": "f50a2568",
   "metadata": {},
   "source": [
    "## creating the necessary columns as required"
   ]
  },
  {
   "cell_type": "code",
   "execution_count": 160,
   "id": "0c10d514",
   "metadata": {},
   "outputs": [],
   "source": [
    "column_names = [\"query_type\",\"relation\", \"query\",\"answer\",\"gold facts\",\"system facts\", \"original output\",\"system output\"]\n",
    "my_data = pd.DataFrame(columns = column_names)"
   ]
  },
  {
   "cell_type": "code",
   "execution_count": 161,
   "id": "ac3977b1",
   "metadata": {},
   "outputs": [],
   "source": [
    "query_type = []\n",
    "relation = []\n",
    "query = []\n",
    "correct = []\n",
    "gold_op = []\n",
    "ssg_op = []\n",
    "gold_facts = []\n",
    "system_facts = []\n"
   ]
  },
  {
   "cell_type": "markdown",
   "id": "cab61845",
   "metadata": {},
   "source": [
    "## This method will get query, answer, relation and query type from test file."
   ]
  },
  {
   "cell_type": "code",
   "execution_count": 162,
   "id": "99e3a72c",
   "metadata": {},
   "outputs": [],
   "source": [
    "def get_data_from_original(path):\n",
    "    with open(path) as json_file:\n",
    "        for line in json_file:\n",
    "            db = json.loads(line)\n",
    "            for all_query in db[\"queries\"]:\n",
    "                query.append(all_query['query'])\n",
    "                correct.append(all_query['answer'])\n",
    "                relation.append(all_query['relation'])\n",
    "                gold_facts.append(all_query[\"derivations\"])\n",
    "                if \"arg\" in all_query['type'] or \"min\" in all_query['type'] or \"max\" in all_query['type']:\n",
    "                    query_type.append(\"min/max\")\n",
    "                else:\n",
    "                    query_type.append(all_query['type'])\n",
    "\n"
   ]
  },
  {
   "cell_type": "code",
   "execution_count": 163,
   "id": "4d1128f4",
   "metadata": {},
   "outputs": [],
   "source": [
    "get_data_from_original(\"mtab_onlytable/balanced_test.jsonl\")"
   ]
  },
  {
   "cell_type": "markdown",
   "id": "b335fa96",
   "metadata": {},
   "source": [
    "## This function will get the gold facts and predicted facts from the predicted file"
   ]
  },
  {
   "cell_type": "code",
   "execution_count": 164,
   "id": "d120b849",
   "metadata": {},
   "outputs": [],
   "source": [
    "def get_data_from_prediction(path):\n",
    "    with open(path) as json_file:\n",
    "        db = json.load(json_file)\n",
    "\n",
    "        for idx,data in enumerate(db):\n",
    "            temp_ssg_op = []\n",
    "            temp_system_facts = []\n",
    "            gold_op.append(data['gold_facts'])\n",
    "            for row in data[\"ssg_output\"]:\n",
    "                for i in row:\n",
    "                    temp_ssg_op.append(i[0])\n",
    "                    temp_system_facts.append(i[1])\n",
    "            ssg_op.append(temp_ssg_op)\n",
    "            system_facts.append(temp_system_facts)\n",
    "                    \n",
    "            \n",
    "            "
   ]
  },
  {
   "cell_type": "code",
   "execution_count": 165,
   "id": "21cb06da",
   "metadata": {},
   "outputs": [],
   "source": [
    "get_data_from_prediction(\"mtab_onlytable/balanced_test_0.7_ssg_sup.json\")"
   ]
  },
  {
   "cell_type": "code",
   "execution_count": 166,
   "id": "64a5c912",
   "metadata": {},
   "outputs": [
    {
     "data": {
      "text/plain": [
       "86"
      ]
     },
     "execution_count": 166,
     "metadata": {},
     "output_type": "execute_result"
    }
   ],
   "source": [
    "len(system_facts)"
   ]
  },
  {
   "cell_type": "code",
   "execution_count": 167,
   "id": "98ff58a7",
   "metadata": {},
   "outputs": [],
   "source": [
    "my_data[\"query_type\"] = query_type\n",
    "my_data['query'] = query\n",
    "my_data['relation'] = relation\n",
    "my_data[\"answer\"] = correct\n",
    "my_data[\"gold facts\"] = gold_facts\n",
    "my_data[\"system facts\"] = system_facts\n",
    "my_data[\"original output\"] = gold_op\n",
    "my_data[\"system output\"] = ssg_op"
   ]
  },
  {
   "cell_type": "markdown",
   "id": "30d6b471",
   "metadata": {},
   "source": [
    "## We can analyze the correct output and system output to see whether their is an exact match or some partial match."
   ]
  },
  {
   "cell_type": "code",
   "execution_count": 168,
   "id": "68e58eef",
   "metadata": {},
   "outputs": [
    {
     "data": {
      "text/html": [
       "<div>\n",
       "<style scoped>\n",
       "    .dataframe tbody tr th:only-of-type {\n",
       "        vertical-align: middle;\n",
       "    }\n",
       "\n",
       "    .dataframe tbody tr th {\n",
       "        vertical-align: top;\n",
       "    }\n",
       "\n",
       "    .dataframe thead th {\n",
       "        text-align: right;\n",
       "    }\n",
       "</style>\n",
       "<table border=\"1\" class=\"dataframe\">\n",
       "  <thead>\n",
       "    <tr style=\"text-align: right;\">\n",
       "      <th></th>\n",
       "      <th>query_type</th>\n",
       "      <th>relation</th>\n",
       "      <th>query</th>\n",
       "      <th>answer</th>\n",
       "      <th>gold facts</th>\n",
       "      <th>system facts</th>\n",
       "      <th>original output</th>\n",
       "      <th>system output</th>\n",
       "    </tr>\n",
       "  </thead>\n",
       "  <tbody>\n",
       "    <tr>\n",
       "      <th>0</th>\n",
       "      <td>min/max</td>\n",
       "      <td>P17</td>\n",
       "      <td>Which league has the fewest number of particip...</td>\n",
       "      <td>[Sánchez, Bobsleigh at the 2002 Winter Olympic...</td>\n",
       "      <td>[Sánchez [SEP] States, Bobsleigh at the 2002 W...</td>\n",
       "      <td>[Sánchez country States, Bobsleigh at the 2002...</td>\n",
       "      <td>[[0], [2], [4], [7]]</td>\n",
       "      <td>[0, 2, 4, 7]</td>\n",
       "    </tr>\n",
       "    <tr>\n",
       "      <th>1</th>\n",
       "      <td>bool</td>\n",
       "      <td>P571</td>\n",
       "      <td>Is 2011 Mumbai's inception date?</td>\n",
       "      <td>[TRUE]</td>\n",
       "      <td>[TRUE]</td>\n",
       "      <td>[Mumbai established 2011]</td>\n",
       "      <td>[[3]]</td>\n",
       "      <td>[3]</td>\n",
       "    </tr>\n",
       "    <tr>\n",
       "      <th>2</th>\n",
       "      <td>count</td>\n",
       "      <td>P17</td>\n",
       "      <td>How many participating country  does Sánchez h...</td>\n",
       "      <td>[2]</td>\n",
       "      <td>[States, Philippines]</td>\n",
       "      <td>[Sánchez country States, Bobsleigh at the 2002...</td>\n",
       "      <td>[[0], [4]]</td>\n",
       "      <td>[0, 2, 4]</td>\n",
       "    </tr>\n",
       "    <tr>\n",
       "      <th>3</th>\n",
       "      <td>bool</td>\n",
       "      <td>P17</td>\n",
       "      <td>Is Nepal a participating country of Wuhan?</td>\n",
       "      <td>[TRUE]</td>\n",
       "      <td>[TRUE]</td>\n",
       "      <td>[Wuhan country Nepal, Bobsleigh at the 2002 Wi...</td>\n",
       "      <td>[[0]]</td>\n",
       "      <td>[0, 8]</td>\n",
       "    </tr>\n",
       "    <tr>\n",
       "      <th>4</th>\n",
       "      <td>bool</td>\n",
       "      <td>P571</td>\n",
       "      <td>Is Mumbai existed in 2007?</td>\n",
       "      <td>[TRUE]</td>\n",
       "      <td>[TRUE]</td>\n",
       "      <td>[Mumbai established 2011, Mumbai established 2...</td>\n",
       "      <td>[[9]]</td>\n",
       "      <td>[5, 7, 9]</td>\n",
       "    </tr>\n",
       "  </tbody>\n",
       "</table>\n",
       "</div>"
      ],
      "text/plain": [
       "  query_type relation                                              query  \\\n",
       "0    min/max      P17  Which league has the fewest number of particip...   \n",
       "1       bool     P571                   Is 2011 Mumbai's inception date?   \n",
       "2      count      P17  How many participating country  does Sánchez h...   \n",
       "3       bool      P17         Is Nepal a participating country of Wuhan?   \n",
       "4       bool     P571                         Is Mumbai existed in 2007?   \n",
       "\n",
       "                                              answer  \\\n",
       "0  [Sánchez, Bobsleigh at the 2002 Winter Olympic...   \n",
       "1                                             [TRUE]   \n",
       "2                                                [2]   \n",
       "3                                             [TRUE]   \n",
       "4                                             [TRUE]   \n",
       "\n",
       "                                          gold facts  \\\n",
       "0  [Sánchez [SEP] States, Bobsleigh at the 2002 W...   \n",
       "1                                             [TRUE]   \n",
       "2                              [States, Philippines]   \n",
       "3                                             [TRUE]   \n",
       "4                                             [TRUE]   \n",
       "\n",
       "                                        system facts       original output  \\\n",
       "0  [Sánchez country States, Bobsleigh at the 2002...  [[0], [2], [4], [7]]   \n",
       "1                          [Mumbai established 2011]                 [[3]]   \n",
       "2  [Sánchez country States, Bobsleigh at the 2002...            [[0], [4]]   \n",
       "3  [Wuhan country Nepal, Bobsleigh at the 2002 Wi...                 [[0]]   \n",
       "4  [Mumbai established 2011, Mumbai established 2...                 [[9]]   \n",
       "\n",
       "  system output  \n",
       "0  [0, 2, 4, 7]  \n",
       "1           [3]  \n",
       "2     [0, 2, 4]  \n",
       "3        [0, 8]  \n",
       "4     [5, 7, 9]  "
      ]
     },
     "execution_count": 168,
     "metadata": {},
     "output_type": "execute_result"
    }
   ],
   "source": [
    "my_data.head()"
   ]
  },
  {
   "cell_type": "code",
   "execution_count": 169,
   "id": "6fadf929",
   "metadata": {},
   "outputs": [
    {
     "data": {
      "text/plain": [
       "86"
      ]
     },
     "execution_count": 169,
     "metadata": {},
     "output_type": "execute_result"
    }
   ],
   "source": [
    "len(my_data)"
   ]
  },
  {
   "cell_type": "markdown",
   "id": "421eb665",
   "metadata": {},
   "source": [
    "## Save the dataframe as spreadsheet"
   ]
  },
  {
   "cell_type": "code",
   "execution_count": 170,
   "id": "69546561",
   "metadata": {},
   "outputs": [],
   "source": [
    "my_data.to_csv('mtab_onlytable/mtab_onlytable_sheet_test.tsv',sep='\\t', index=False)\n",
    "\n"
   ]
  },
  {
   "cell_type": "code",
   "execution_count": null,
   "id": "1d1a0886",
   "metadata": {},
   "outputs": [],
   "source": []
  }
 ],
 "metadata": {
  "kernelspec": {
   "display_name": "Python 3 (ipykernel)",
   "language": "python",
   "name": "python3"
  },
  "language_info": {
   "codemirror_mode": {
    "name": "ipython",
    "version": 3
   },
   "file_extension": ".py",
   "mimetype": "text/x-python",
   "name": "python",
   "nbconvert_exporter": "python",
   "pygments_lexer": "ipython3",
   "version": "3.9.7"
  }
 },
 "nbformat": 4,
 "nbformat_minor": 5
}
