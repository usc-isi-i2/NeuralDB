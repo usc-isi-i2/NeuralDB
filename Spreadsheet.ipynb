{
 "cells": [
  {
   "cell_type": "markdown",
   "id": "c0c31728",
   "metadata": {},
   "source": [
    "# Python Environment Setup"
   ]
  },
  {
   "cell_type": "code",
   "execution_count": 80,
   "id": "ab776bb5",
   "metadata": {},
   "outputs": [
    {
     "name": "stdout",
     "output_type": "stream",
     "text": [
      "Requirement already satisfied: virtualenv in /nas/home/ssingh41/anaconda3/lib/python3.9/site-packages (20.13.3)\n",
      "Requirement already satisfied: filelock<4,>=3.2 in /nas/home/ssingh41/anaconda3/lib/python3.9/site-packages (from virtualenv) (3.3.1)\n",
      "Requirement already satisfied: six<2,>=1.9.0 in /nas/home/ssingh41/anaconda3/lib/python3.9/site-packages (from virtualenv) (1.16.0)\n",
      "Requirement already satisfied: platformdirs<3,>=2 in /nas/home/ssingh41/anaconda3/lib/python3.9/site-packages (from virtualenv) (2.5.1)\n",
      "Requirement already satisfied: distlib<1,>=0.3.1 in /nas/home/ssingh41/anaconda3/lib/python3.9/site-packages (from virtualenv) (0.3.4)\n"
     ]
    }
   ],
   "source": [
    "!pip3 install virtualenv"
   ]
  },
  {
   "cell_type": "code",
   "execution_count": 81,
   "id": "7aa05a9b",
   "metadata": {},
   "outputs": [],
   "source": [
    "!python3 -m venv myenv"
   ]
  },
  {
   "cell_type": "code",
   "execution_count": 82,
   "id": "e530ed02",
   "metadata": {},
   "outputs": [],
   "source": [
    "!source myenv/bin/activate"
   ]
  },
  {
   "cell_type": "markdown",
   "id": "835112a1",
   "metadata": {},
   "source": [
    "# This code will create a spreadsheet for all input, correct output and system output"
   ]
  },
  {
   "cell_type": "code",
   "execution_count": 148,
   "id": "9292bb23",
   "metadata": {},
   "outputs": [],
   "source": [
    "import json\n",
    "import pandas as pd"
   ]
  },
  {
   "cell_type": "markdown",
   "id": "f50a2568",
   "metadata": {},
   "source": [
    "## creating the necessary columns as required"
   ]
  },
  {
   "cell_type": "code",
   "execution_count": 149,
   "id": "0c10d514",
   "metadata": {},
   "outputs": [],
   "source": [
    "column_names = [\"query_type\",\"relation\", \"query\",\"correct output\", \"system output\",\"ssg output\",\"Exact Match\", \"Soft Match\"]\n",
    "my_data = pd.DataFrame(columns = column_names)"
   ]
  },
  {
   "cell_type": "code",
   "execution_count": 150,
   "id": "ac3977b1",
   "metadata": {},
   "outputs": [],
   "source": [
    "query_type = []\n",
    "relation = []\n",
    "query = []\n",
    "correct = []\n",
    "system = []\n",
    "exact = []\n",
    "soft = []\n",
    "ssg_op = []\n"
   ]
  },
  {
   "cell_type": "markdown",
   "id": "cab61845",
   "metadata": {},
   "source": [
    "## This method will get query, answer, relation and query type from test file."
   ]
  },
  {
   "cell_type": "code",
   "execution_count": 151,
   "id": "99e3a72c",
   "metadata": {},
   "outputs": [],
   "source": [
    "def get_data_from_original(path):\n",
    "    with open(path) as json_file:\n",
    "        for line in json_file:\n",
    "            db = json.loads(line)\n",
    "            for all_query in db[\"queries\"]:\n",
    "                query.append(all_query['query'])\n",
    "                correct.append(all_query['answer'])\n",
    "                relation.append(all_query['relation'])\n",
    "                if \"arg\" in all_query['type'] or \"min\" in all_query['type'] or \"max\" in all_query['type']:\n",
    "                    query_type.append(\"min/max\")\n",
    "                else:\n",
    "                    query_type.append(all_query['type'])\n",
    "\n"
   ]
  },
  {
   "cell_type": "code",
   "execution_count": 152,
   "id": "4d1128f4",
   "metadata": {},
   "outputs": [],
   "source": [
    "get_data_from_original(\"onlytable/balanced_test.jsonl\")"
   ]
  },
  {
   "cell_type": "markdown",
   "id": "b335fa96",
   "metadata": {},
   "source": [
    "## This function will get the gold facts and predicted facts from the predicted file"
   ]
  },
  {
   "cell_type": "code",
   "execution_count": 153,
   "id": "d120b849",
   "metadata": {},
   "outputs": [],
   "source": [
    "def get_data_from_prediction(path):\n",
    "    with open(path) as json_file:\n",
    "        db = json.load(json_file)\n",
    "\n",
    "        for idx,data in enumerate(db):\n",
    "            temp_ssg = []\n",
    "            ssg_output = [[f[0] for f in ss] for ss in data[\"ssg_output\"]]\n",
    "            temp_soft = 0\n",
    "            temp_exact = 0\n",
    "            for s in ssg_output:\n",
    "                if len(s)==0 and data[\"gold_facts\"] ==[]:\n",
    "                    temp_exact+=1\n",
    "\n",
    "                if s in data['gold_facts']:\n",
    "\n",
    "                    temp_exact+=1\n",
    "\n",
    "                else:\n",
    "                    if len(s) > 1 and [s[1], s[0]] in data['gold_facts']:\n",
    "                        temp_exact+=1\n",
    "                    else:\n",
    "                        for gold_s in data['gold_facts']:\n",
    "                            if set(gold_s) <= set(s):\n",
    "                                temp_soft+=1\n",
    "                                break\n",
    "            if len(data['gold_facts']) == temp_exact:\n",
    "                ssg_op.append(data[\"ssg_output\"])\n",
    "                system.append(data['gold_facts'])\n",
    "                exact.append(1)\n",
    "                soft.append(1)\n",
    "            elif temp_exact>1:\n",
    "                ssg_op.append(data[\"ssg_output\"])\n",
    "                system.append(data['gold_facts'])\n",
    "                exact.append(0)\n",
    "                soft.append(1)\n",
    "            elif temp_soft>=1:\n",
    "                ssg_op.append(data[\"ssg_output\"])\n",
    "                system.append(data['gold_facts'])\n",
    "                exact.append(0)\n",
    "                soft.append(1)\n",
    "            else:\n",
    "                ssg_op.append(data[\"ssg_output\"])\n",
    "                system.append(\"None\")\n",
    "                exact.append(0)\n",
    "                soft.append(0)\n"
   ]
  },
  {
   "cell_type": "code",
   "execution_count": 154,
   "id": "21cb06da",
   "metadata": {},
   "outputs": [],
   "source": [
    "get_data_from_prediction(\"onlytable/balanced_test_0.7_ssg_sup.json\")"
   ]
  },
  {
   "cell_type": "code",
   "execution_count": 155,
   "id": "98ff58a7",
   "metadata": {},
   "outputs": [],
   "source": [
    "my_data[\"query_type\"] = query_type\n",
    "my_data['query'] = query\n",
    "my_data['relation'] = relation\n",
    "my_data[\"correct output\"] = correct\n",
    "my_data[\"system output\"] = system\n",
    "my_data['Exact Match'] = exact\n",
    "my_data[\"Soft Match\"] = soft\n",
    "my_data[\"ssg output\"] = ssg_op"
   ]
  },
  {
   "cell_type": "code",
   "execution_count": 156,
   "id": "68e58eef",
   "metadata": {},
   "outputs": [
    {
     "data": {
      "text/html": [
       "<div>\n",
       "<style scoped>\n",
       "    .dataframe tbody tr th:only-of-type {\n",
       "        vertical-align: middle;\n",
       "    }\n",
       "\n",
       "    .dataframe tbody tr th {\n",
       "        vertical-align: top;\n",
       "    }\n",
       "\n",
       "    .dataframe thead th {\n",
       "        text-align: right;\n",
       "    }\n",
       "</style>\n",
       "<table border=\"1\" class=\"dataframe\">\n",
       "  <thead>\n",
       "    <tr style=\"text-align: right;\">\n",
       "      <th></th>\n",
       "      <th>query_type</th>\n",
       "      <th>relation</th>\n",
       "      <th>query</th>\n",
       "      <th>correct output</th>\n",
       "      <th>system output</th>\n",
       "      <th>ssg output</th>\n",
       "      <th>Exact Match</th>\n",
       "      <th>Soft Match</th>\n",
       "    </tr>\n",
       "  </thead>\n",
       "  <tbody>\n",
       "    <tr>\n",
       "      <th>0</th>\n",
       "      <td>set</td>\n",
       "      <td>P54</td>\n",
       "      <td>Who is a member of United States?</td>\n",
       "      <td>[]</td>\n",
       "      <td>None</td>\n",
       "      <td>[[]]</td>\n",
       "      <td>0</td>\n",
       "      <td>0</td>\n",
       "    </tr>\n",
       "    <tr>\n",
       "      <th>1</th>\n",
       "      <td>min/max</td>\n",
       "      <td>P54</td>\n",
       "      <td>Who has played for the fewest teams?</td>\n",
       "      <td>[Ýokary Liga]</td>\n",
       "      <td>[[1], [2], [3], [4]]</td>\n",
       "      <td>[[[2, FIFA World Cup team Belgium]], [[3, FIFA...</td>\n",
       "      <td>0</td>\n",
       "      <td>1</td>\n",
       "    </tr>\n",
       "    <tr>\n",
       "      <th>2</th>\n",
       "      <td>set</td>\n",
       "      <td>P54</td>\n",
       "      <td>List teams FIFA World Cup plays for</td>\n",
       "      <td>[Argentina, Portugal, Brazil, Belgium]</td>\n",
       "      <td>[[2], [3], [6], [7, 8]]</td>\n",
       "      <td>[[[2, FIFA World Cup team Belgium]], [[3, FIFA...</td>\n",
       "      <td>0</td>\n",
       "      <td>1</td>\n",
       "    </tr>\n",
       "    <tr>\n",
       "      <th>3</th>\n",
       "      <td>set</td>\n",
       "      <td>P54</td>\n",
       "      <td>List teams FIFA World Cup plays for</td>\n",
       "      <td>[Portugal, Brazil, Belgium]</td>\n",
       "      <td>[[2], [3], [6]]</td>\n",
       "      <td>[[[2, FIFA World Cup team Belgium]], [[3, FIFA...</td>\n",
       "      <td>1</td>\n",
       "      <td>1</td>\n",
       "    </tr>\n",
       "    <tr>\n",
       "      <th>4</th>\n",
       "      <td>bool</td>\n",
       "      <td>P54</td>\n",
       "      <td>Does FIFA World Cup play for Argentina?</td>\n",
       "      <td>[]</td>\n",
       "      <td>[]</td>\n",
       "      <td>[[[2, FIFA World Cup team Belgium]], [[3, FIFA...</td>\n",
       "      <td>1</td>\n",
       "      <td>1</td>\n",
       "    </tr>\n",
       "  </tbody>\n",
       "</table>\n",
       "</div>"
      ],
      "text/plain": [
       "  query_type relation                                    query  \\\n",
       "0        set      P54        Who is a member of United States?   \n",
       "1    min/max      P54     Who has played for the fewest teams?   \n",
       "2        set      P54      List teams FIFA World Cup plays for   \n",
       "3        set      P54      List teams FIFA World Cup plays for   \n",
       "4       bool      P54  Does FIFA World Cup play for Argentina?   \n",
       "\n",
       "                           correct output            system output  \\\n",
       "0                                      []                     None   \n",
       "1                           [Ýokary Liga]     [[1], [2], [3], [4]]   \n",
       "2  [Argentina, Portugal, Brazil, Belgium]  [[2], [3], [6], [7, 8]]   \n",
       "3             [Portugal, Brazil, Belgium]          [[2], [3], [6]]   \n",
       "4                                      []                       []   \n",
       "\n",
       "                                          ssg output  Exact Match  Soft Match  \n",
       "0                                               [[]]            0           0  \n",
       "1  [[[2, FIFA World Cup team Belgium]], [[3, FIFA...            0           1  \n",
       "2  [[[2, FIFA World Cup team Belgium]], [[3, FIFA...            0           1  \n",
       "3  [[[2, FIFA World Cup team Belgium]], [[3, FIFA...            1           1  \n",
       "4  [[[2, FIFA World Cup team Belgium]], [[3, FIFA...            1           1  "
      ]
     },
     "execution_count": 156,
     "metadata": {},
     "output_type": "execute_result"
    }
   ],
   "source": [
    "my_data.head()"
   ]
  },
  {
   "cell_type": "markdown",
   "id": "421eb665",
   "metadata": {},
   "source": [
    "## Save the dataframe as spreadsheet"
   ]
  },
  {
   "cell_type": "code",
   "execution_count": 157,
   "id": "69546561",
   "metadata": {},
   "outputs": [],
   "source": [
    "my_data.to_csv('onlytable/onlytable_sheet_test.tsv',sep='\\t', index=False)"
   ]
  },
  {
   "cell_type": "code",
   "execution_count": null,
   "id": "bbfabfc5",
   "metadata": {},
   "outputs": [],
   "source": []
  }
 ],
 "metadata": {
  "kernelspec": {
   "display_name": "Python 3 (ipykernel)",
   "language": "python",
   "name": "python3"
  },
  "language_info": {
   "codemirror_mode": {
    "name": "ipython",
    "version": 3
   },
   "file_extension": ".py",
   "mimetype": "text/x-python",
   "name": "python",
   "nbconvert_exporter": "python",
   "pygments_lexer": "ipython3",
   "version": "3.9.7"
  }
 },
 "nbformat": 4,
 "nbformat_minor": 5
}
