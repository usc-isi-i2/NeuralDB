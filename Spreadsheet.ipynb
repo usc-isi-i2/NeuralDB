{
 "cells": [
  {
   "cell_type": "markdown",
   "id": "c0c31728",
   "metadata": {},
   "source": [
    "# Python Environment Setup"
   ]
  },
  {
   "cell_type": "code",
   "execution_count": 80,
   "id": "ab776bb5",
   "metadata": {},
   "outputs": [
    {
     "name": "stdout",
     "output_type": "stream",
     "text": [
      "Requirement already satisfied: virtualenv in /nas/home/ssingh41/anaconda3/lib/python3.9/site-packages (20.13.3)\n",
      "Requirement already satisfied: filelock<4,>=3.2 in /nas/home/ssingh41/anaconda3/lib/python3.9/site-packages (from virtualenv) (3.3.1)\n",
      "Requirement already satisfied: six<2,>=1.9.0 in /nas/home/ssingh41/anaconda3/lib/python3.9/site-packages (from virtualenv) (1.16.0)\n",
      "Requirement already satisfied: platformdirs<3,>=2 in /nas/home/ssingh41/anaconda3/lib/python3.9/site-packages (from virtualenv) (2.5.1)\n",
      "Requirement already satisfied: distlib<1,>=0.3.1 in /nas/home/ssingh41/anaconda3/lib/python3.9/site-packages (from virtualenv) (0.3.4)\n"
     ]
    }
   ],
   "source": [
    "!pip3 install virtualenv"
   ]
  },
  {
   "cell_type": "code",
   "execution_count": 81,
   "id": "7aa05a9b",
   "metadata": {},
   "outputs": [],
   "source": [
    "!python3 -m venv myenv"
   ]
  },
  {
   "cell_type": "code",
   "execution_count": 82,
   "id": "e530ed02",
   "metadata": {},
   "outputs": [],
   "source": [
    "!source myenv/bin/activate"
   ]
  },
  {
   "cell_type": "markdown",
   "id": "835112a1",
   "metadata": {},
   "source": [
    "# This code will create a spreadsheet for all input, correct output and system output"
   ]
  },
  {
   "cell_type": "code",
   "execution_count": 210,
   "id": "9292bb23",
   "metadata": {},
   "outputs": [],
   "source": [
    "import json\n",
    "import pandas as pd"
   ]
  },
  {
   "cell_type": "markdown",
   "id": "f50a2568",
   "metadata": {},
   "source": [
    "## creating the necessary columns as required"
   ]
  },
  {
   "cell_type": "code",
   "execution_count": 247,
   "id": "0c10d514",
   "metadata": {},
   "outputs": [],
   "source": [
    "column_names = [\"query_type\",\"relation\", \"query\",\"correct output\", \"system output\",\"ssg output\"]\n",
    "my_data = pd.DataFrame(columns = column_names)"
   ]
  },
  {
   "cell_type": "code",
   "execution_count": 248,
   "id": "ac3977b1",
   "metadata": {},
   "outputs": [],
   "source": [
    "query_type = []\n",
    "relation = []\n",
    "query = []\n",
    "correct = []\n",
    "system = []\n",
    "ssg_op = []\n"
   ]
  },
  {
   "cell_type": "markdown",
   "id": "cab61845",
   "metadata": {},
   "source": [
    "## This method will get query, answer, relation and query type from test file."
   ]
  },
  {
   "cell_type": "code",
   "execution_count": 249,
   "id": "99e3a72c",
   "metadata": {},
   "outputs": [],
   "source": [
    "def get_data_from_original(path):\n",
    "    with open(path) as json_file:\n",
    "        for line in json_file:\n",
    "            db = json.loads(line)\n",
    "            for all_query in db[\"queries\"]:\n",
    "                query.append(all_query['query'])\n",
    "                correct.append(all_query['answer'])\n",
    "                relation.append(all_query['relation'])\n",
    "                if \"arg\" in all_query['type'] or \"min\" in all_query['type'] or \"max\" in all_query['type']:\n",
    "                    query_type.append(\"min/max\")\n",
    "                else:\n",
    "                    query_type.append(all_query['type'])\n",
    "\n"
   ]
  },
  {
   "cell_type": "code",
   "execution_count": 250,
   "id": "4d1128f4",
   "metadata": {},
   "outputs": [],
   "source": [
    "get_data_from_original(\"Inference_original_onlytable/combined_data.jsonl\")"
   ]
  },
  {
   "cell_type": "markdown",
   "id": "b335fa96",
   "metadata": {},
   "source": [
    "## This function will get the gold facts and predicted facts from the predicted file"
   ]
  },
  {
   "cell_type": "code",
   "execution_count": 251,
   "id": "d120b849",
   "metadata": {},
   "outputs": [],
   "source": [
    "def get_data_from_prediction(path):\n",
    "    with open(path) as json_file:\n",
    "        db = json.load(json_file)\n",
    "\n",
    "        for idx,data in enumerate(db):\n",
    "            ssg_op.append(data[\"ssg_output\"])\n",
    "            system.append(data['gold_facts'])"
   ]
  },
  {
   "cell_type": "code",
   "execution_count": 252,
   "id": "21cb06da",
   "metadata": {},
   "outputs": [],
   "source": [
    "get_data_from_prediction(\"Inference_original_onlytable/combined_data_0.7_ssg_sup.json\")"
   ]
  },
  {
   "cell_type": "code",
   "execution_count": 253,
   "id": "98ff58a7",
   "metadata": {},
   "outputs": [],
   "source": [
    "my_data[\"query_type\"] = query_type\n",
    "my_data['query'] = query\n",
    "my_data['relation'] = relation\n",
    "my_data[\"correct output\"] = correct\n",
    "my_data[\"system output\"] = system\n",
    "my_data[\"ssg output\"] = ssg_op"
   ]
  },
  {
   "cell_type": "markdown",
   "id": "30d6b471",
   "metadata": {},
   "source": [
    "## We can analyze the correct output and system output to see whether their is an exact match or some partial match."
   ]
  },
  {
   "cell_type": "code",
   "execution_count": 254,
   "id": "68e58eef",
   "metadata": {},
   "outputs": [
    {
     "data": {
      "text/html": [
       "<div>\n",
       "<style scoped>\n",
       "    .dataframe tbody tr th:only-of-type {\n",
       "        vertical-align: middle;\n",
       "    }\n",
       "\n",
       "    .dataframe tbody tr th {\n",
       "        vertical-align: top;\n",
       "    }\n",
       "\n",
       "    .dataframe thead th {\n",
       "        text-align: right;\n",
       "    }\n",
       "</style>\n",
       "<table border=\"1\" class=\"dataframe\">\n",
       "  <thead>\n",
       "    <tr style=\"text-align: right;\">\n",
       "      <th></th>\n",
       "      <th>query_type</th>\n",
       "      <th>relation</th>\n",
       "      <th>query</th>\n",
       "      <th>correct output</th>\n",
       "      <th>system output</th>\n",
       "      <th>ssg output</th>\n",
       "    </tr>\n",
       "  </thead>\n",
       "  <tbody>\n",
       "    <tr>\n",
       "      <th>0</th>\n",
       "      <td>min/max</td>\n",
       "      <td>P54</td>\n",
       "      <td>What is the smallest team?</td>\n",
       "      <td>[Evagoras Paphos, Czech Republic, Albania, Ayi...</td>\n",
       "      <td>[[0], [1], [3], [4], [6]]</td>\n",
       "      <td>[[[0, Cypriot First Division team Evagoras Pap...</td>\n",
       "    </tr>\n",
       "    <tr>\n",
       "      <th>1</th>\n",
       "      <td>bool</td>\n",
       "      <td>P54</td>\n",
       "      <td>Is UEFA Euro 2016 part of Omonia Aradippou?</td>\n",
       "      <td>[FALSE]</td>\n",
       "      <td>[[1], [2], [7]]</td>\n",
       "      <td>[[[0, Cypriot First Division team Evagoras Pap...</td>\n",
       "    </tr>\n",
       "    <tr>\n",
       "      <th>2</th>\n",
       "      <td>count</td>\n",
       "      <td>P54</td>\n",
       "      <td>How many teams has UEFA Euro 2016 played for?</td>\n",
       "      <td>[6]</td>\n",
       "      <td>[[1], [3], [5], [6], [7], [9]]</td>\n",
       "      <td>[[[1, UEFA Euro 2016 team Czech Republic]], [[...</td>\n",
       "    </tr>\n",
       "    <tr>\n",
       "      <th>3</th>\n",
       "      <td>set</td>\n",
       "      <td>P54</td>\n",
       "      <td>Who plays for Switzerland?</td>\n",
       "      <td>[UEFA Euro 2016]</td>\n",
       "      <td>[[5]]</td>\n",
       "      <td>[[[5, UEFA Euro 2016 team Switzerland]], [[5, ...</td>\n",
       "    </tr>\n",
       "    <tr>\n",
       "      <th>4</th>\n",
       "      <td>count</td>\n",
       "      <td>P54</td>\n",
       "      <td>How many teams has 2013 FIA World Endurance Ch...</td>\n",
       "      <td>[3]</td>\n",
       "      <td>[[1], [2], [4]]</td>\n",
       "      <td>[[[1, 2013 FIA World Endurance Championship te...</td>\n",
       "    </tr>\n",
       "  </tbody>\n",
       "</table>\n",
       "</div>"
      ],
      "text/plain": [
       "  query_type relation                                              query  \\\n",
       "0    min/max      P54                         What is the smallest team?   \n",
       "1       bool      P54        Is UEFA Euro 2016 part of Omonia Aradippou?   \n",
       "2      count      P54      How many teams has UEFA Euro 2016 played for?   \n",
       "3        set      P54                         Who plays for Switzerland?   \n",
       "4      count      P54  How many teams has 2013 FIA World Endurance Ch...   \n",
       "\n",
       "                                      correct output  \\\n",
       "0  [Evagoras Paphos, Czech Republic, Albania, Ayi...   \n",
       "1                                            [FALSE]   \n",
       "2                                                [6]   \n",
       "3                                   [UEFA Euro 2016]   \n",
       "4                                                [3]   \n",
       "\n",
       "                    system output  \\\n",
       "0       [[0], [1], [3], [4], [6]]   \n",
       "1                 [[1], [2], [7]]   \n",
       "2  [[1], [3], [5], [6], [7], [9]]   \n",
       "3                           [[5]]   \n",
       "4                 [[1], [2], [4]]   \n",
       "\n",
       "                                          ssg output  \n",
       "0  [[[0, Cypriot First Division team Evagoras Pap...  \n",
       "1  [[[0, Cypriot First Division team Evagoras Pap...  \n",
       "2  [[[1, UEFA Euro 2016 team Czech Republic]], [[...  \n",
       "3  [[[5, UEFA Euro 2016 team Switzerland]], [[5, ...  \n",
       "4  [[[1, 2013 FIA World Endurance Championship te...  "
      ]
     },
     "execution_count": 254,
     "metadata": {},
     "output_type": "execute_result"
    }
   ],
   "source": [
    "my_data.head()"
   ]
  },
  {
   "cell_type": "markdown",
   "id": "421eb665",
   "metadata": {},
   "source": [
    "## Save the dataframe as spreadsheet"
   ]
  },
  {
   "cell_type": "code",
   "execution_count": 255,
   "id": "69546561",
   "metadata": {},
   "outputs": [],
   "source": [
    "my_data.to_csv('Inference_original_onlytable/Inference_original_onlytable_sheet_combined.tsv',sep='\\t', index=False)"
   ]
  },
  {
   "cell_type": "code",
   "execution_count": null,
   "id": "bbfabfc5",
   "metadata": {},
   "outputs": [],
   "source": []
  }
 ],
 "metadata": {
  "kernelspec": {
   "display_name": "Python 3 (ipykernel)",
   "language": "python",
   "name": "python3"
  },
  "language_info": {
   "codemirror_mode": {
    "name": "ipython",
    "version": 3
   },
   "file_extension": ".py",
   "mimetype": "text/x-python",
   "name": "python",
   "nbconvert_exporter": "python",
   "pygments_lexer": "ipython3",
   "version": "3.9.7"
  }
 },
 "nbformat": 4,
 "nbformat_minor": 5
}
